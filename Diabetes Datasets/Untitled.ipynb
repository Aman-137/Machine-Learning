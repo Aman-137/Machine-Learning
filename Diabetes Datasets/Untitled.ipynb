{
 "cells": [
  {
   "cell_type": "code",
   "execution_count": 8,
   "metadata": {},
   "outputs": [],
   "source": [
    "import numpy as np\n",
    "from sklearn import datasets"
   ]
  },
  {
   "cell_type": "code",
   "execution_count": 9,
   "metadata": {},
   "outputs": [],
   "source": [
    "data_train = np.loadtxt (\"diabetes_x_y_train.csv\", delimiter = \",\")\n",
    "data_test = np.loadtxt (\"diabetes_x_test.csv\", delimiter= \",\")"
   ]
  },
  {
   "cell_type": "code",
   "execution_count": 10,
   "metadata": {},
   "outputs": [
    {
     "data": {
      "text/plain": [
       "(331, 11)"
      ]
     },
     "execution_count": 10,
     "metadata": {},
     "output_type": "execute_result"
    }
   ],
   "source": [
    "data_train.shape"
   ]
  },
  {
   "cell_type": "code",
   "execution_count": 11,
   "metadata": {},
   "outputs": [
    {
     "data": {
      "text/plain": [
       "(111, 10)"
      ]
     },
     "execution_count": 11,
     "metadata": {},
     "output_type": "execute_result"
    }
   ],
   "source": [
    "data_test.shape"
   ]
  },
  {
   "cell_type": "code",
   "execution_count": 12,
   "metadata": {},
   "outputs": [],
   "source": [
    "x_train = data_train[:,0:10]\n",
    "y_train = data_train[:,10]\n",
    "x_test = data_test[:,:]"
   ]
  },
  {
   "cell_type": "code",
   "execution_count": 13,
   "metadata": {},
   "outputs": [
    {
     "data": {
      "text/plain": [
       "(331,)"
      ]
     },
     "execution_count": 13,
     "metadata": {},
     "output_type": "execute_result"
    }
   ],
   "source": [
    "y_train.shape"
   ]
  },
  {
   "cell_type": "code",
   "execution_count": 14,
   "metadata": {},
   "outputs": [
    {
     "data": {
      "text/plain": [
       "(331, 10)"
      ]
     },
     "execution_count": 14,
     "metadata": {},
     "output_type": "execute_result"
    }
   ],
   "source": [
    "x_train.shape"
   ]
  },
  {
   "cell_type": "code",
   "execution_count": 15,
   "metadata": {},
   "outputs": [
    {
     "data": {
      "text/plain": [
       "array([[-4.91050164e-02, -4.46416365e-02,  1.60854917e-01, ...,\n",
       "         2.80165065e-02,  1.13486232e-02,  3.46000000e+02],\n",
       "       [-7.09002471e-02,  5.06801187e-02, -8.91974838e-02, ...,\n",
       "        -1.29079423e-02, -5.49250874e-02,  1.04000000e+02],\n",
       "       [ 1.75052192e-03, -4.46416365e-02, -7.08746786e-02, ...,\n",
       "        -2.25121719e-02,  7.20651633e-03,  4.90000000e+01],\n",
       "       ...,\n",
       "       [ 2.35457526e-02, -4.46416365e-02,  7.03187031e-02, ...,\n",
       "        -1.91970476e-02, -9.36191133e-03,  2.88000000e+02],\n",
       "       [ 1.62806757e-02,  5.06801187e-02,  7.24743273e-02, ...,\n",
       "        -2.36445576e-02,  6.10539062e-02,  1.31000000e+02],\n",
       "       [-9.14709343e-03,  5.06801187e-02, -3.09956318e-02, ...,\n",
       "         6.20931562e-03,  2.79170509e-02,  4.20000000e+01]])"
      ]
     },
     "execution_count": 15,
     "metadata": {},
     "output_type": "execute_result"
    }
   ],
   "source": [
    "data_train"
   ]
  },
  {
   "cell_type": "code",
   "execution_count": 16,
   "metadata": {},
   "outputs": [
    {
     "data": {
      "text/plain": [
       "array([[ 0.02354575,  0.05068012, -0.0374625 , ..., -0.03949338,\n",
       "        -0.03075121, -0.01350402],\n",
       "       [-0.07816532, -0.04464164, -0.0730303 , ..., -0.03949338,\n",
       "        -0.01811827, -0.08391984],\n",
       "       [-0.03094232,  0.05068012,  0.00133873, ...,  0.1081111 ,\n",
       "         0.08379677,  0.00306441],\n",
       "       ...,\n",
       "       [ 0.0090156 , -0.04464164, -0.01267283, ...,  0.03430886,\n",
       "         0.02337484, -0.0052198 ],\n",
       "       [ 0.01991321, -0.04464164, -0.03422907, ...,  0.03283281,\n",
       "         0.02472532,  0.06933812],\n",
       "       [ 0.01628068,  0.05068012,  0.00996123, ..., -0.03949338,\n",
       "         0.01703713,  0.00720652]])"
      ]
     },
     "execution_count": 16,
     "metadata": {},
     "output_type": "execute_result"
    }
   ],
   "source": [
    "data_test"
   ]
  },
  {
   "cell_type": "code",
   "execution_count": 17,
   "metadata": {},
   "outputs": [
    {
     "data": {
      "text/plain": [
       "LinearRegression()"
      ]
     },
     "execution_count": 17,
     "metadata": {},
     "output_type": "execute_result"
    }
   ],
   "source": [
    "from sklearn.linear_model import LinearRegression\n",
    "\n",
    "alg1 = LinearRegression()\n",
    "\n",
    "alg1.fit(x_train, y_train)\n",
    "\n"
   ]
  },
  {
   "cell_type": "code",
   "execution_count": 18,
   "metadata": {},
   "outputs": [],
   "source": [
    "y_pred = alg1.predict(x_test)"
   ]
  },
  {
   "cell_type": "code",
   "execution_count": 19,
   "metadata": {},
   "outputs": [
    {
     "data": {
      "text/plain": [
       "array([105.52974799, 105.8039198 , 178.60857225,  79.3828781 ,\n",
       "        52.95868706,  98.87263854, 150.71755448,  34.86515216,\n",
       "       113.13535727, 161.50184038, 135.8615611 ,  94.71592222,\n",
       "       138.48094422, 141.37441723, 158.76862662, 171.65288616,\n",
       "       106.44835654, 103.92659639,  95.38693889, 167.40118092,\n",
       "       166.53426278, 101.53464712, 252.45035972, 147.02258547,\n",
       "       214.78906632, 161.27557106, 210.61315228,  71.78091585,\n",
       "       189.65032431, 206.6134259 , 219.98643455, 168.80192534,\n",
       "       116.84846127, 178.74399639,  77.03247418,  59.54633214,\n",
       "       111.5673781 , 156.95186739, 154.59591259, 198.94457493,\n",
       "       115.53884017, 153.46699024,  84.96179518, 113.70337192,\n",
       "       142.14155617, 147.31040378,  82.78072358,  77.89237327,\n",
       "       128.99006192, 261.58712282, 213.31187775, 243.98791257,\n",
       "       167.68132094, 183.69712124, 166.85926884, 202.11440188,\n",
       "       220.39235543, 172.40288024, 176.60897931, 109.04656567,\n",
       "       276.37789836,  90.99941821, 289.37221147, 119.56253351,\n",
       "        75.45687948, 180.78598759, 146.62093081, 156.42382465,\n",
       "        41.079036  , 247.90645166, 207.99121432,  90.09641075,\n",
       "       222.24169638, 189.86378006, 182.2695376 , 164.39881376,\n",
       "       190.27066587, 105.4486795 , 199.86136394, 245.796388  ,\n",
       "       123.20281334, 119.41031908, 145.86620411, 206.19247291,\n",
       "       150.86282453, 142.23221646, 154.56874616, 115.29233396,\n",
       "       134.07810123, 118.42225404, 203.5767555 , 170.66483797,\n",
       "       127.409797  ,  57.13507634, 231.92226503, 185.20713654,\n",
       "       187.37494558,  83.55920849, 185.42585685, 217.34035639,\n",
       "       108.86715354,  80.98714568, 127.05524123, 242.00738792,\n",
       "       155.9723414 , 125.67575276, 246.41235643, 234.963933  ,\n",
       "       191.51298252, 168.33254477, 163.02965178])"
      ]
     },
     "execution_count": 19,
     "metadata": {},
     "output_type": "execute_result"
    }
   ],
   "source": [
    "y_pred"
   ]
  },
  {
   "cell_type": "code",
   "execution_count": 20,
   "metadata": {},
   "outputs": [],
   "source": [
    "y_pred_roundoff = np.round_(y_pred, decimals = 5)"
   ]
  },
  {
   "cell_type": "code",
   "execution_count": 21,
   "metadata": {},
   "outputs": [],
   "source": [
    "np.savetxt('diabetes_trained.csv' , y_pred, delimiter =', ')"
   ]
  },
  {
   "cell_type": "code",
   "execution_count": 22,
   "metadata": {},
   "outputs": [
    {
     "data": {
      "text/plain": [
       "array([105.52975, 105.80392, 178.60857,  79.38288,  52.95869,  98.87264,\n",
       "       150.71755,  34.86515, 113.13536, 161.50184, 135.86156,  94.71592,\n",
       "       138.48094, 141.37442, 158.76863, 171.65289, 106.44836, 103.9266 ,\n",
       "        95.38694, 167.40118, 166.53426, 101.53465, 252.45036, 147.02259,\n",
       "       214.78907, 161.27557, 210.61315,  71.78092, 189.65032, 206.61343,\n",
       "       219.98643, 168.80193, 116.84846, 178.744  ,  77.03247,  59.54633,\n",
       "       111.56738, 156.95187, 154.59591, 198.94457, 115.53884, 153.46699,\n",
       "        84.9618 , 113.70337, 142.14156, 147.3104 ,  82.78072,  77.89237,\n",
       "       128.99006, 261.58712, 213.31188, 243.98791, 167.68132, 183.69712,\n",
       "       166.85927, 202.1144 , 220.39236, 172.40288, 176.60898, 109.04657,\n",
       "       276.3779 ,  90.99942, 289.37221, 119.56253,  75.45688, 180.78599,\n",
       "       146.62093, 156.42382,  41.07904, 247.90645, 207.99121,  90.09641,\n",
       "       222.2417 , 189.86378, 182.26954, 164.39881, 190.27067, 105.44868,\n",
       "       199.86136, 245.79639, 123.20281, 119.41032, 145.8662 , 206.19247,\n",
       "       150.86282, 142.23222, 154.56875, 115.29233, 134.0781 , 118.42225,\n",
       "       203.57676, 170.66484, 127.4098 ,  57.13508, 231.92227, 185.20714,\n",
       "       187.37495,  83.55921, 185.42586, 217.34036, 108.86715,  80.98715,\n",
       "       127.05524, 242.00739, 155.97234, 125.67575, 246.41236, 234.96393,\n",
       "       191.51298, 168.33254, 163.02965])"
      ]
     },
     "execution_count": 22,
     "metadata": {},
     "output_type": "execute_result"
    }
   ],
   "source": [
    "y_pred_roundoff"
   ]
  },
  {
   "cell_type": "markdown",
   "metadata": {},
   "source": [
    "### Ploting graph on training data"
   ]
  },
  {
   "cell_type": "code",
   "execution_count": 23,
   "metadata": {},
   "outputs": [
    {
     "data": {
      "image/png": "[encoded data removed]",
      "text/plain": [
       "<Figure size 432x288 with 1 Axes>"
      ]
     },
     "metadata": {
      "needs_background": "light"
     },
     "output_type": "display_data"
    }
   ],
   "source": [
    "import matplotlib.pyplot as plt\n",
    "\n",
    "pred = alg1.predict(x_train)\n",
    "plt.scatter(y_train, pred)\n",
    "\n",
    "plt.grid()\n",
    "plt.xlabel(\"True output of training data\")\n",
    "plt.ylabel(\"Predicted output on training data\")\n",
    "plt.title(\"Predicted vs True value\")\n",
    "\n",
    "plt.plot([0, 350], [0, 350], \"r\")\n",
    "plt.show()"
   ]
  },
  {
   "cell_type": "markdown",
   "metadata": {},
   "source": [
    "### Ploting graph on testing data"
   ]
  },
  {
   "cell_type": "code",
   "execution_count": 25,
   "metadata": {},
   "outputs": [
    {
     "data": {
      "image/png": "[encoded data removed]",
      "text/plain": [
       "<Figure size 432x288 with 1 Axes>"
      ]
     },
     "metadata": {
      "needs_background": "light"
     },
     "output_type": "display_data"
    }
   ],
   "source": [
    "import matplotlib.pyplot as plt\n",
    "\n",
    "pred = alg1.predict(x_test)\n",
    "plt.scatter(y_pred, pred)\n",
    "\n",
    "plt.grid()\n",
    "plt.xlabel(\"True output of training data\")\n",
    "plt.ylabel(\"Predicted output on training data\")\n",
    "plt.title(\"Predicted vs True value\")\n",
    "\n",
    "plt.plot([0, 350], [0, 350], \"r\")\n",
    "plt.show()"
   ]
  }
 ],
 "metadata": {
  "kernelspec": {
   "display_name": "Python 3",
   "language": "python",
   "name": "python3"
  },
  "language_info": {
   "codemirror_mode": {
    "name": "ipython",
    "version": 3
   },
   "file_extension": ".py",
   "mimetype": "text/x-python",
   "name": "python",
   "nbconvert_exporter": "python",
   "pygments_lexer": "ipython3",
   "version": "3.8.5"
  }
 },
 "nbformat": 4,
 "nbformat_minor": 4
}
