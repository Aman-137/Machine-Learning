{
 "cells": [
  {
   "cell_type": "code",
   "execution_count": 2,
   "metadata": {},
   "outputs": [],
   "source": [
    "from sklearn import datasets\n",
    "from sklearn.model_selection import train_test_split"
   ]
  },
  {
   "cell_type": "code",
   "execution_count": 3,
   "metadata": {},
   "outputs": [],
   "source": [
    "iris = datasets.load_iris()"
   ]
  },
  {
   "cell_type": "code",
   "execution_count": 4,
   "metadata": {},
   "outputs": [],
   "source": [
    "x = iris.data\n",
    "y = iris.target"
   ]
  },
  {
   "cell_type": "code",
   "execution_count": 5,
   "metadata": {},
   "outputs": [],
   "source": [
    "x_train, x_test, y_train, y_test = train_test_split(x, y)"
   ]
  },
  {
   "cell_type": "code",
   "execution_count": 6,
   "metadata": {},
   "outputs": [
    {
     "data": {
      "text/plain": [
       "array([1, 1, 0, 1, 1, 1, 0, 2, 0, 0, 0, 0, 2, 0, 0, 2, 2, 1, 0, 2, 0, 1,\n",
       "       1, 0, 1, 2, 2, 2, 0, 2, 2, 2, 0, 0, 0, 0, 0, 1, 2, 0, 1, 2, 0, 1,\n",
       "       1, 0, 2, 2, 2, 0, 0, 0, 1, 2, 0, 1, 1, 0, 2, 2, 1, 1, 2, 1, 1, 0,\n",
       "       1, 2, 0, 2, 0, 1, 1, 0, 0, 0, 2, 1, 1, 0, 1, 0, 0, 2, 1, 0, 2, 2,\n",
       "       2, 0, 2, 2, 1, 2, 0, 2, 0, 0, 1, 2, 0, 2, 1, 1, 1, 2, 0, 2, 1, 2,\n",
       "       2, 2])"
      ]
     },
     "execution_count": 6,
     "metadata": {},
     "output_type": "execute_result"
    }
   ],
   "source": [
    "y_train"
   ]
  },
  {
   "cell_type": "code",
   "execution_count": 7,
   "metadata": {},
   "outputs": [],
   "source": [
    "from sklearn.neural_network import MLPClassifier"
   ]
  },
  {
   "cell_type": "code",
   "execution_count": 13,
   "metadata": {},
   "outputs": [
    {
     "data": {
      "text/plain": [
       "MLPClassifier(hidden_layer_sizes=(20,), max_iter=3000)"
      ]
     },
     "execution_count": 13,
     "metadata": {},
     "output_type": "execute_result"
    }
   ],
   "source": [
    "clf = MLPClassifier(hidden_layer_sizes= (20,), max_iter= 3000)\n",
    "\n",
    "clf.fit(x_train, y_train)"
   ]
  },
  {
   "cell_type": "code",
   "execution_count": 14,
   "metadata": {},
   "outputs": [
    {
     "data": {
      "text/plain": [
       "1.0"
      ]
     },
     "execution_count": 14,
     "metadata": {},
     "output_type": "execute_result"
    }
   ],
   "source": [
    "clf.score(x_test, y_test)"
   ]
  },
  {
   "cell_type": "code",
   "execution_count": 15,
   "metadata": {},
   "outputs": [
    {
     "data": {
      "text/plain": [
       "[array([[ 1.86661318e-01, -1.20973741e-28,  2.15220400e-01,\n",
       "          8.53073664e-26, -5.89899028e-05,  3.19083650e-01,\n",
       "         -3.02964121e-02,  3.81163087e-01, -1.49301310e-02,\n",
       "         -2.52447956e-01,  4.57420090e-01,  7.81579036e-02,\n",
       "         -2.82986084e-03, -6.05070027e-11,  3.12118309e-11,\n",
       "         -7.33352124e-02, -1.85263632e-18,  1.81734462e-01,\n",
       "          3.49070498e-07,  5.71587924e-01],\n",
       "        [ 2.72064263e-01, -7.36902841e-03,  4.46915118e-01,\n",
       "         -4.69385288e-27,  1.44260442e-18, -4.35649851e-01,\n",
       "         -2.76627813e-02,  3.22689975e-01, -1.37472744e-01,\n",
       "         -7.85540161e-01,  9.46789618e-01,  8.47649924e-01,\n",
       "         -1.00051763e-04, -4.15583590e-04, -4.29954104e-03,\n",
       "          1.23496007e-01,  2.97789159e-24,  2.72513846e-01,\n",
       "         -5.51542836e-05,  4.61050956e-01],\n",
       "        [ 2.99681536e-01, -3.41148026e-04, -6.87775068e-01,\n",
       "         -2.05793871e-27, -2.64612267e-24, -3.60771790e-01,\n",
       "         -2.82815149e-02, -4.64643174e-01, -2.82813694e-02,\n",
       "          8.41679138e-01, -8.46731832e-01, -5.12893935e-01,\n",
       "          3.26311346e-05, -1.49780299e-04, -1.83403660e-06,\n",
       "         -1.53935202e-01, -7.66064173e-23, -1.72954104e-01,\n",
       "         -1.75030063e-06, -6.73290224e-01],\n",
       "        [ 8.02525397e-01,  8.06532520e-04,  7.58862780e-02,\n",
       "          1.03528748e-25, -1.43944849e-05, -4.98048994e-01,\n",
       "         -2.14581036e-02, -5.42925246e-01,  1.38097189e-02,\n",
       "          8.81810315e-01, -9.34987876e-01, -7.47206788e-01,\n",
       "          2.37728352e-06, -1.04362900e-03, -7.23795237e-04,\n",
       "         -3.67394017e-01, -9.72542390e-04, -3.87812991e-01,\n",
       "         -1.02121738e-03, -8.11663024e-01]]),\n",
       " array([[-6.20980434e-01,  2.95919666e-01,  1.01943832e+00],\n",
       "        [ 4.34357934e-03, -3.16137950e-05, -2.88946269e-24],\n",
       "        [ 6.70696913e-01, -5.37910218e-01,  1.76465801e-01],\n",
       "        [-2.14872013e-08, -9.44717680e-04,  6.82090578e-22],\n",
       "        [-1.30787555e-04, -6.03923755e-06,  1.29331650e-10],\n",
       "        [-1.53098028e-01,  2.47973434e-01, -5.32935100e-01],\n",
       "        [ 4.46951235e-02,  1.43963117e-02, -1.54843051e-02],\n",
       "        [ 5.86082108e-01,  2.09625387e-01, -1.34430842e+00],\n",
       "        [ 6.56747305e-05,  3.44415718e-05, -2.31283489e-05],\n",
       "        [-5.17559379e-01, -8.97837944e-01,  8.58532362e-01],\n",
       "        [ 6.13345358e-01,  3.32543956e-02, -7.76372318e-01],\n",
       "        [ 9.98178677e-01, -9.87563618e-01,  1.42939170e-01],\n",
       "        [-5.06285800e-03,  1.32862484e-15,  1.35488436e-04],\n",
       "        [ 2.46565867e-03,  1.12178266e-04, -1.41790926e-15],\n",
       "        [-5.28181741e-13,  1.05333510e-19, -1.02262964e-27],\n",
       "        [ 4.16004431e-02,  1.80883558e-01,  4.56284156e-01],\n",
       "        [-4.10176493e-05, -5.08957593e-27,  8.91470469e-05],\n",
       "        [ 5.91292670e-01,  2.75574986e-01, -4.21586018e-01],\n",
       "        [-1.26985083e-16, -4.91095187e-12, -6.11376982e-07],\n",
       "        [-1.68072509e-02,  7.58184025e-01, -9.68270240e-01]])]"
      ]
     },
     "execution_count": 15,
     "metadata": {},
     "output_type": "execute_result"
    }
   ],
   "source": [
    "clf.coefs_"
   ]
  },
  {
   "cell_type": "code",
   "execution_count": 16,
   "metadata": {},
   "outputs": [
    {
     "data": {
      "text/plain": [
       "2"
      ]
     },
     "execution_count": 16,
     "metadata": {},
     "output_type": "execute_result"
    }
   ],
   "source": [
    "len(clf.coefs_)"
   ]
  },
  {
   "cell_type": "code",
   "execution_count": 18,
   "metadata": {},
   "outputs": [
    {
     "data": {
      "text/plain": [
       "((4, 20), (20, 3))"
      ]
     },
     "execution_count": 18,
     "metadata": {},
     "output_type": "execute_result"
    }
   ],
   "source": [
    "clf.coefs_[0].shape, clf.coefs_[1].shape"
   ]
  },
  {
   "cell_type": "code",
   "execution_count": 19,
   "metadata": {},
   "outputs": [
    {
     "data": {
      "text/plain": [
       "((20,), (3,))"
      ]
     },
     "execution_count": 19,
     "metadata": {},
     "output_type": "execute_result"
    }
   ],
   "source": [
    "clf.intercepts_[0].shape, clf.intercepts_[1].shape"
   ]
  },
  {
   "cell_type": "code",
   "execution_count": null,
   "metadata": {},
   "outputs": [],
   "source": []
  }
 ],
 "metadata": {
  "kernelspec": {
   "display_name": "Python 3",
   "language": "python",
   "name": "python3"
  },
  "language_info": {
   "codemirror_mode": {
    "name": "ipython",
    "version": 3
   },
   "file_extension": ".py",
   "mimetype": "text/x-python",
   "name": "python",
   "nbconvert_exporter": "python",
   "pygments_lexer": "ipython3",
   "version": "3.8.5"
  }
 },
 "nbformat": 4,
 "nbformat_minor": 4
}
